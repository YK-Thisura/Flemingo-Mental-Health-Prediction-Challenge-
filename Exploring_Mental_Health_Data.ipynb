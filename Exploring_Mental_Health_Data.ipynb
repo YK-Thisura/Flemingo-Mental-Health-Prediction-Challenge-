{
  "nbformat": 4,
  "nbformat_minor": 0,
  "metadata": {
    "colab": {
      "provenance": [],
      "gpuType": "T4"
    },
    "kernelspec": {
      "name": "python3",
      "display_name": "Python 3"
    },
    "language_info": {
      "name": "python"
    },
    "accelerator": "GPU"
  },
  "cells": [
    {
      "cell_type": "markdown",
      "source": [
        "## 01. Import libraries"
      ],
      "metadata": {
        "id": "veOdbgqvSXxz"
      }
    },
    {
      "cell_type": "code",
      "source": [
        "# !pip install xgboost scikit-learn matplotlib --quiet\n",
        "\n",
        "import zipfile, os\n",
        "import pandas as pd\n",
        "import numpy as np\n",
        "import matplotlib.pyplot as plt\n",
        "from sklearn.model_selection import train_test_split, StratifiedKFold\n",
        "from sklearn.preprocessing import LabelEncoder\n",
        "from sklearn.metrics import accuracy_score, confusion_matrix, ConfusionMatrixDisplay\n",
        "from xgboost import XGBClassifier, plot_importance\n",
        "import joblib"
      ],
      "metadata": {
        "id": "lu4njDDYSfb6"
      },
      "execution_count": null,
      "outputs": []
    },
    {
      "cell_type": "markdown",
      "source": [
        "## 02. Extract dataset"
      ],
      "metadata": {
        "id": "F7f-36S3S7_4"
      }
    },
    {
      "cell_type": "code",
      "source": [
        "zip_path = '/content/playground-series-s4e11.zip'\n",
        "extract_path = '/content'\n",
        "\n",
        "with zipfile.ZipFile(zip_path, 'r') as zip_ref:\n",
        "    zip_ref.extractall(extract_path)"
      ],
      "metadata": {
        "id": "RyRz5OtITEHg"
      },
      "execution_count": null,
      "outputs": []
    },
    {
      "cell_type": "markdown",
      "source": [
        "## 03. Load CSVs"
      ],
      "metadata": {
        "id": "Me4g3vMeTGMz"
      }
    },
    {
      "cell_type": "code",
      "source": [
        "train_df = pd.read_csv(os.path.join(extract_path, 'train.csv'))\n",
        "test_df = pd.read_csv(os.path.join(extract_path, 'test.csv'))\n",
        "sample_submission = pd.read_csv(os.path.join(extract_path, 'sample_submission.csv'))\n",
        "\n",
        "print(\"Train shape:\", train_df.shape)\n",
        "print(\"Test shape:\", test_df.shape)"
      ],
      "metadata": {
        "id": "O-TnQw9vTLWL",
        "colab": {
          "base_uri": "https://localhost:8080/"
        },
        "outputId": "d03e1dbb-1e70-41fa-b75c-d6a40035c995"
      },
      "execution_count": null,
      "outputs": [
        {
          "output_type": "stream",
          "name": "stdout",
          "text": [
            "Train shape: (140700, 20)\n",
            "Test shape: (93800, 19)\n"
          ]
        }
      ]
    },
    {
      "cell_type": "markdown",
      "source": [
        "## 04. Encode target column"
      ],
      "metadata": {
        "id": "7EUyNOHPTvR_"
      }
    },
    {
      "cell_type": "code",
      "source": [
        "target_col = 'Depression'\n",
        "id_col = 'id'\n",
        "\n",
        "if train_df[target_col].dtype == 'object':\n",
        "    y = (train_df[target_col] == 'Yes').astype(int)\n",
        "else:\n",
        "    y = train_df[target_col]"
      ],
      "metadata": {
        "id": "wBCUes0YTw06"
      },
      "execution_count": null,
      "outputs": []
    },
    {
      "cell_type": "markdown",
      "source": [
        "## 05. Combine train + test for consistent encoding"
      ],
      "metadata": {
        "id": "8nQ78J-wT2PK"
      }
    },
    {
      "cell_type": "code",
      "source": [
        "full_df = pd.concat([train_df.drop(columns=[target_col]), test_df], axis=0)"
      ],
      "metadata": {
        "id": "W6bJonP6T6QK"
      },
      "execution_count": null,
      "outputs": []
    },
    {
      "cell_type": "markdown",
      "source": [
        "## 06. Label encode categorical columns"
      ],
      "metadata": {
        "id": "GGBVbyyNT9-A"
      }
    },
    {
      "cell_type": "code",
      "source": [
        "categorical_cols = full_df.select_dtypes(include='object').columns.tolist()\n",
        "categorical_cols = [col for col in categorical_cols if col != id_col]\n",
        "\n",
        "label_encoders = {}\n",
        "for col in categorical_cols:\n",
        "    le = LabelEncoder()\n",
        "    full_df[col] = le.fit_transform(full_df[col].astype(str))\n",
        "    label_encoders[col] = le"
      ],
      "metadata": {
        "id": "KSB9Lo0fUKl7"
      },
      "execution_count": null,
      "outputs": []
    },
    {
      "cell_type": "markdown",
      "source": [
        "## 07. Fill missing values with median"
      ],
      "metadata": {
        "id": "xzSvA-lGUQu0"
      }
    },
    {
      "cell_type": "code",
      "source": [
        "full_df.fillna(full_df.median(numeric_only=True), inplace=True)"
      ],
      "metadata": {
        "id": "39LX6INTUWGE"
      },
      "execution_count": null,
      "outputs": []
    },
    {
      "cell_type": "markdown",
      "source": [
        "## 08. Separate X and X_test"
      ],
      "metadata": {
        "id": "3puk32KfUZZR"
      }
    },
    {
      "cell_type": "code",
      "source": [
        "X = full_df.iloc[:len(train_df), :].copy()\n",
        "X_test = full_df.iloc[len(train_df):, :].copy()"
      ],
      "metadata": {
        "id": "XLrn73oOUmRN"
      },
      "execution_count": null,
      "outputs": []
    },
    {
      "cell_type": "markdown",
      "source": [
        "## 09. Stratified K-Fold without early stopping"
      ],
      "metadata": {
        "id": "ilVwRsarUzI9"
      }
    },
    {
      "cell_type": "code",
      "source": [
        "skf = StratifiedKFold(n_splits=5, shuffle=True, random_state=42)\n",
        "best_model = None\n",
        "best_acc = 0\n",
        "\n",
        "for fold, (train_idx, val_idx) in enumerate(skf.split(X, y)):\n",
        "    print(f\"\\n🔁 Fold {fold + 1}\")\n",
        "    X_train, X_val = X.iloc[train_idx], X.iloc[val_idx]\n",
        "    y_train, y_val = y.iloc[train_idx], y.iloc[val_idx]\n",
        "\n",
        "    model = XGBClassifier(\n",
        "        n_estimators=500,\n",
        "        learning_rate=0.05,\n",
        "        max_depth=5,\n",
        "        subsample=0.8,\n",
        "        colsample_bytree=0.8,\n",
        "        random_state=42,\n",
        "        use_label_encoder=False,\n",
        "        eval_metric='logloss'\n",
        "    )\n",
        "\n",
        "    model.fit(X_train, y_train)\n",
        "\n",
        "    preds = model.predict(X_val)\n",
        "    acc = accuracy_score(y_val, preds)\n",
        "    print(f\"Fold Accuracy: {acc:.4f}\")\n",
        "\n",
        "    if acc > best_acc:\n",
        "        best_model = model\n",
        "        best_acc = acc"
      ],
      "metadata": {
        "id": "ed8H8O7iU6nL",
        "colab": {
          "base_uri": "https://localhost:8080/"
        },
        "outputId": "59c461d2-f467-4a4f-bdf6-10ec381ab54d"
      },
      "execution_count": null,
      "outputs": [
        {
          "output_type": "stream",
          "name": "stdout",
          "text": [
            "\n",
            "🔁 Fold 1\n"
          ]
        },
        {
          "output_type": "stream",
          "name": "stderr",
          "text": [
            "/usr/local/lib/python3.11/dist-packages/xgboost/training.py:183: UserWarning: [14:13:47] WARNING: /workspace/src/learner.cc:738: \n",
            "Parameters: { \"use_label_encoder\" } are not used.\n",
            "\n",
            "  bst.update(dtrain, iteration=i, fobj=obj)\n"
          ]
        },
        {
          "output_type": "stream",
          "name": "stdout",
          "text": [
            "Fold Accuracy: 0.9393\n",
            "\n",
            "🔁 Fold 2\n"
          ]
        },
        {
          "output_type": "stream",
          "name": "stderr",
          "text": [
            "/usr/local/lib/python3.11/dist-packages/xgboost/training.py:183: UserWarning: [14:13:50] WARNING: /workspace/src/learner.cc:738: \n",
            "Parameters: { \"use_label_encoder\" } are not used.\n",
            "\n",
            "  bst.update(dtrain, iteration=i, fobj=obj)\n"
          ]
        },
        {
          "output_type": "stream",
          "name": "stdout",
          "text": [
            "Fold Accuracy: 0.9376\n",
            "\n",
            "🔁 Fold 3\n"
          ]
        },
        {
          "output_type": "stream",
          "name": "stderr",
          "text": [
            "/usr/local/lib/python3.11/dist-packages/xgboost/training.py:183: UserWarning: [14:13:52] WARNING: /workspace/src/learner.cc:738: \n",
            "Parameters: { \"use_label_encoder\" } are not used.\n",
            "\n",
            "  bst.update(dtrain, iteration=i, fobj=obj)\n"
          ]
        },
        {
          "output_type": "stream",
          "name": "stdout",
          "text": [
            "Fold Accuracy: 0.9403\n",
            "\n",
            "🔁 Fold 4\n"
          ]
        },
        {
          "output_type": "stream",
          "name": "stderr",
          "text": [
            "/usr/local/lib/python3.11/dist-packages/xgboost/training.py:183: UserWarning: [14:13:53] WARNING: /workspace/src/learner.cc:738: \n",
            "Parameters: { \"use_label_encoder\" } are not used.\n",
            "\n",
            "  bst.update(dtrain, iteration=i, fobj=obj)\n"
          ]
        },
        {
          "output_type": "stream",
          "name": "stdout",
          "text": [
            "Fold Accuracy: 0.9413\n",
            "\n",
            "🔁 Fold 5\n"
          ]
        },
        {
          "output_type": "stream",
          "name": "stderr",
          "text": [
            "/usr/local/lib/python3.11/dist-packages/xgboost/training.py:183: UserWarning: [14:13:55] WARNING: /workspace/src/learner.cc:738: \n",
            "Parameters: { \"use_label_encoder\" } are not used.\n",
            "\n",
            "  bst.update(dtrain, iteration=i, fobj=obj)\n"
          ]
        },
        {
          "output_type": "stream",
          "name": "stdout",
          "text": [
            "Fold Accuracy: 0.9398\n"
          ]
        }
      ]
    },
    {
      "cell_type": "markdown",
      "source": [
        "## 10. Confusion Matrix"
      ],
      "metadata": {
        "id": "aEkjTiWSVyLG"
      }
    },
    {
      "cell_type": "code",
      "source": [
        "conf_matrix = confusion_matrix(y_val, preds)\n",
        "disp = ConfusionMatrixDisplay(conf_matrix)\n",
        "disp.plot(cmap='Blues')\n",
        "plt.title(\"Confusion Matrix\")\n",
        "plt.show()"
      ],
      "metadata": {
        "id": "H5fyqHaIV-Pl",
        "colab": {
          "base_uri": "https://localhost:8080/",
          "height": 472
        },
        "outputId": "7081a787-d192-4861-d508-9cdfc746fba5"
      },
      "execution_count": null,
      "outputs": [
        {
          "output_type": "display_data",
          "data": {
            "text/plain": [
              "<Figure size 640x480 with 2 Axes>"
            ],
            "image/png": "[encoded data removed]"
          },
          "metadata": {}
        }
      ]
    },
    {
      "cell_type": "markdown",
      "source": [
        "## 11. Feature Importance"
      ],
      "metadata": {
        "id": "QiwijTXAV-6_"
      }
    },
    {
      "cell_type": "code",
      "source": [
        "plot_importance(best_model, max_num_features=10)\n",
        "plt.title(\"Top 10 Feature Importances\")\n",
        "plt.show()"
      ],
      "metadata": {
        "id": "jHetLrgPWGSD",
        "colab": {
          "base_uri": "https://localhost:8080/",
          "height": 472
        },
        "outputId": "ddbdeff6-e93d-42eb-e2dc-d011c15eaa30"
      },
      "execution_count": null,
      "outputs": [
        {
          "output_type": "display_data",
          "data": {
            "text/plain": [
              "<Figure size 640x480 with 1 Axes>"
            ],
            "image/png": "[encoded data removed]"
          },
          "metadata": {}
        }
      ]
    },
    {
      "cell_type": "markdown",
      "source": [
        "## 12. Predict on test set"
      ],
      "metadata": {
        "id": "4UU8xfcwWKOq"
      }
    },
    {
      "cell_type": "code",
      "source": [
        "final_preds = best_model.predict(X_test)"
      ],
      "metadata": {
        "id": "zfBG-cx9WbkH"
      },
      "execution_count": null,
      "outputs": []
    },
    {
      "cell_type": "markdown",
      "source": [
        "## 13. Save Submission"
      ],
      "metadata": {
        "id": "Jp_dcj01Wfpk"
      }
    },
    {
      "cell_type": "code",
      "source": [
        "submission = pd.DataFrame({\n",
        "    'id': test_df[id_col],\n",
        "    'target': final_preds\n",
        "})\n",
        "submission.to_csv('submission.csv', index=False)\n",
        "print(\"✅ submission.csv saved!\")"
      ],
      "metadata": {
        "id": "OlGJmpT3WmhE",
        "colab": {
          "base_uri": "https://localhost:8080/"
        },
        "outputId": "c32da7c2-ddcb-4a09-eda0-714a4141ab67"
      },
      "execution_count": null,
      "outputs": [
        {
          "output_type": "stream",
          "name": "stdout",
          "text": [
            "✅ submission.csv saved!\n"
          ]
        }
      ]
    }
  ]
}